{
 "cells": [
  {
   "cell_type": "code",
   "execution_count": null,
   "id": "86e6f8a4",
   "metadata": {},
   "outputs": [],
   "source": [
    "# Import Dependencies\n",
    "import pandas as pd\n",
    "import numpy as np\n",
    "from sklearn.model_selection import train_test_split, GridSearchCV\n",
    "from sklearn.preprocessing import LabelEncoder\n",
    "from sklearn.metrics import accuracy_score, classification_report, confusion_matrix, roc_auc_score\n",
    "import xgboost as xgb\n",
    "import joblib\n",
    "import warnings\n",
    "warnings.filterwarnings('ignore')"
   ]
  },
  {
   "cell_type": "code",
   "execution_count": 4,
   "id": "5c968357",
   "metadata": {},
   "outputs": [
    {
     "name": "stdout",
     "output_type": "stream",
     "text": [
      "Shape: (30000, 12)\n",
      "   patient_id  age  gender blood_pressure  cholesterol   bmi diabetes  \\\n",
      "0           1   74   Other         130/72          240  31.5      Yes   \n",
      "1           2   46  Female         120/92          292  36.3       No   \n",
      "2           3   89   Other         135/78          153  30.3       No   \n",
      "3           4   84  Female         123/80          153  31.5       No   \n",
      "4           5   32   Other         135/84          205  18.4       No   \n",
      "\n",
      "  hypertension  medication_count  length_of_stay discharge_destination  \\\n",
      "0           No                 5               1      Nursing_Facility   \n",
      "1           No                 4               3      Nursing_Facility   \n",
      "2          Yes                 1               1                  Home   \n",
      "3          Yes                 3              10                  Home   \n",
      "4          Yes                 6               4      Nursing_Facility   \n",
      "\n",
      "  readmitted_30_days  \n",
      "0                Yes  \n",
      "1                 No  \n",
      "2                 No  \n",
      "3                 No  \n",
      "4                 No  \n"
     ]
    }
   ],
   "source": [
    "# Load Dataset\n",
    "df = pd.read_csv('D:\\ARCAP REIT\\Task\\T -1 Prediction System\\Data\\hospital_readmissions.csv')  # Replace with your CSV file path\n",
    "print(\"Shape:\", df.shape)\n",
    "print(df.head())"
   ]
  },
  {
   "cell_type": "code",
   "execution_count": 5,
   "id": "e8d70dd0",
   "metadata": {},
   "outputs": [],
   "source": [
    "# Data Preprocessing\n",
    "\n",
    "# Handle blood pressure (split into systolic & diastolic)\n",
    "df[['systolic_bp', 'diastolic_bp']] = df['blood_pressure'].str.split('/', expand=True).astype(float)\n",
    "df.drop('blood_pressure', axis=1, inplace=True)"
   ]
  },
  {
   "cell_type": "code",
   "execution_count": 6,
   "id": "fe7a8142",
   "metadata": {},
   "outputs": [],
   "source": [
    "# Convert categorical columns\n",
    "cat_cols = ['gender', 'diabetes', 'hypertension', 'discharge_destination', 'readmitted_30_days']\n",
    "for col in cat_cols:\n",
    "    df[col] = LabelEncoder().fit_transform(df[col])"
   ]
  },
  {
   "cell_type": "code",
   "execution_count": null,
   "id": "fbf44b59",
   "metadata": {},
   "outputs": [],
   "source": [
    "# Drop patient_id (not predictive)\n",
    "df.drop('patient_id', axis=1, inplace=True)"
   ]
  },
  {
   "cell_type": "code",
   "execution_count": 9,
   "id": "38c00901",
   "metadata": {},
   "outputs": [
    {
     "name": "stdout",
     "output_type": "stream",
     "text": [
      "\n",
      "Model Evaluation Results:\n",
      "Accuracy: 0.8758333333333334\n",
      "ROC-AUC Score: 0.5571705073292375\n",
      "\n",
      "Classification Report:\n",
      "               precision    recall  f1-score   support\n",
      "\n",
      "           0       0.88      1.00      0.93      5265\n",
      "           1       0.00      0.00      0.00       735\n",
      "\n",
      "    accuracy                           0.88      6000\n",
      "   macro avg       0.44      0.50      0.47      6000\n",
      "weighted avg       0.77      0.88      0.82      6000\n",
      "\n",
      "Confusion Matrix:\n",
      " [[5255   10]\n",
      " [ 735    0]]\n"
     ]
    }
   ],
   "source": [
    "# Feature / Target Split\n",
    "X = df.drop('readmitted_30_days', axis=1)\n",
    "y = df['readmitted_30_days']\n",
    "\n",
    "# Train-Test Split\n",
    "X_train, X_test, y_train, y_test = train_test_split(X, y, test_size=0.2, random_state=42, stratify=y)\n",
    "\n",
    "# Train XGBoost Model\n",
    "xgb_model = xgb.XGBClassifier(\n",
    "    objective='binary:logistic',\n",
    "    eval_metric='auc',\n",
    "    random_state=42,\n",
    "    learning_rate=0.1,\n",
    "    n_estimators=150,\n",
    "    max_depth=5\n",
    ")\n",
    "\n",
    "xgb_model.fit(X_train, y_train)\n",
    "\n",
    "# Evaluate Model\n",
    "y_pred = xgb_model.predict(X_test)\n",
    "y_proba = xgb_model.predict_proba(X_test)[:, 1]\n",
    "\n",
    "print(\"\\nModel Evaluation Results:\")\n",
    "print(\"Accuracy:\", accuracy_score(y_test, y_pred))\n",
    "print(\"ROC-AUC Score:\", roc_auc_score(y_test, y_proba))\n",
    "print(\"\\nClassification Report:\\n\", classification_report(y_test, y_pred))\n",
    "print(\"Confusion Matrix:\\n\", confusion_matrix(y_test, y_pred))\n"
   ]
  },
  {
   "cell_type": "code",
   "execution_count": 11,
   "id": "d76a3d17",
   "metadata": {},
   "outputs": [
    {
     "name": "stdout",
     "output_type": "stream",
     "text": [
      "\n",
      "Model saved as 'patient_readmission_model.pkl'\n"
     ]
    }
   ],
   "source": [
    "# Save Model for Deployment\n",
    "joblib.dump(xgb_model, \"patient_readmission_model.pkl\")\n",
    "print(\"\\nModel saved as 'patient_readmission_model.pkl'\")\n"
   ]
  }
 ],
 "metadata": {
  "kernelspec": {
   "display_name": "Python 3",
   "language": "python",
   "name": "python3"
  },
  "language_info": {
   "codemirror_mode": {
    "name": "ipython",
    "version": 3
   },
   "file_extension": ".py",
   "mimetype": "text/x-python",
   "name": "python",
   "nbconvert_exporter": "python",
   "pygments_lexer": "ipython3",
   "version": "3.13.6"
  }
 },
 "nbformat": 4,
 "nbformat_minor": 5
}
